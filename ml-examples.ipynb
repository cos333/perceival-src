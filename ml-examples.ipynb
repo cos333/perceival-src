{
 "cells": [
  {
   "cell_type": "markdown",
   "metadata": {},
   "source": [
    "Perceival makes it easy to generate clean and organized data which can be immediately used for further analysis. Here, we show how we can perform machine learning for predictive analytics using the `scikit-learn` Python library on data generated using Perceival."
   ]
  },
  {
   "cell_type": "code",
   "execution_count": 1,
   "metadata": {
    "collapsed": false,
    "deletable": true,
    "editable": true
   },
   "outputs": [],
   "source": [
    "import pandas as pd\n",
    "\n",
    "app_data_path = 'appdata.csv'\n",
    "user_data_path = 'userdata.csv'\n",
    "\n",
    "app_data_df = pd.read_csv(app_data_path)\n",
    "user_data_df = pd.read_csv(user_data_path)"
   ]
  },
  {
   "cell_type": "markdown",
   "metadata": {
    "deletable": true,
    "editable": true
   },
   "source": [
    "## Classification: spends more or less than 10 cents?"
   ]
  },
  {
   "cell_type": "code",
   "execution_count": 2,
   "metadata": {
    "collapsed": false,
    "deletable": true,
    "editable": true
   },
   "outputs": [
    {
     "name": "stdout",
     "output_type": "stream",
     "text": [
      "Accuracy of model is 0.9840\n"
     ]
    }
   ],
   "source": [
    "from sklearn.linear_model import LogisticRegression\n",
    "from sklearn.metrics import accuracy_score\n",
    "\n",
    "y = app_data_df.groupby('UserID').sum()['CentsSpent'] > 10\n",
    "X = pd.get_dummies(user_data_df.drop('UserID', axis=1)).as_matrix()\n",
    "\n",
    "X_train = X[:250]\n",
    "X_test = X[250:]\n",
    "y_train = y[:250]\n",
    "y_test = y[250:]\n",
    "\n",
    "logit = LogisticRegression()\n",
    "_ = logit.fit(X_train, y_train)\n",
    "\n",
    "# predict on some testing data\n",
    "y_pred = logit.predict(X_test)\n",
    "\n",
    "print('Accuracy of model is {:.4f}'.format(accuracy_score(y_pred, y_test)))"
   ]
  }
 ],
 "metadata": {
  "kernelspec": {
   "display_name": "Python 2",
   "language": "python",
   "name": "python2"
  },
  "language_info": {
   "codemirror_mode": {
    "name": "ipython",
    "version": 2
   },
   "file_extension": ".py",
   "mimetype": "text/x-python",
   "name": "python",
   "nbconvert_exporter": "python",
   "pygments_lexer": "ipython2",
   "version": "2.7.13"
  }
 },
 "nbformat": 4,
 "nbformat_minor": 2
}
